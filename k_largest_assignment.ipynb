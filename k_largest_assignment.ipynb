{
  "nbformat": 4,
  "nbformat_minor": 0,
  "metadata": {
    "colab": {
      "provenance": []
    },
    "kernelspec": {
      "name": "python3",
      "display_name": "Python 3"
    },
    "language_info": {
      "name": "python"
    }
  },
  "cells": [
    {
      "cell_type": "code",
      "metadata": {
        "id": "176e064d"
      },
      "source": [
        "def find_kth_largest(numbers, k):\n",
        "  \"\"\"\n",
        "  Finds the kth largest element in a list of numbers.\n",
        "\n",
        "  Args:\n",
        "    numbers: A list of numbers.\n",
        "    k: An integer representing the desired rank (e.g., 1 for the largest, 2 for the second largest).\n",
        "\n",
        "  Returns:\n",
        "    The kth largest element in the list.\n",
        "  \"\"\"\n",
        "  numbers.sort(reverse=True)  # Sort the list in descending order\n",
        "  return numbers[k - 1]  # Return the element at the k-1 index\n",
        "\n",
        "numbers = [4, 9, 2, 7, 5, 1]\n",
        "k = 3\n",
        "\n",
        "kth_largest = find_kth_largest(numbers, k)"
      ],
      "execution_count": null,
      "outputs": []
    },
    {
      "cell_type": "code",
      "metadata": {
        "id": "969fa1d3"
      },
      "source": [
        "print(kth_largest)"
      ],
      "execution_count": null,
      "outputs": []
    }
  ]
}