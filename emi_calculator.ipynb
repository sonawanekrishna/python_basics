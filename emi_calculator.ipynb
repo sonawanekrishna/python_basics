def emi_calculator(principal, rate, duration, down_payment=0):
    loan_amount = principal - down_payment
    emi = loan_amount * rate * ((1 + rate) ** duration) / (((1 + rate) ** duration) - 1)
    return emi